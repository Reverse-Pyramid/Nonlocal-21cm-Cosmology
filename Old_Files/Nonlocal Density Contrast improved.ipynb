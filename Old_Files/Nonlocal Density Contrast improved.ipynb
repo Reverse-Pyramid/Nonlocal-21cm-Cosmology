{
 "cells": [
  {
   "cell_type": "code",
   "execution_count": 1,
   "metadata": {},
   "outputs": [],
   "source": [
    "using Plots\n",
    "using Colors\n",
    "using LinearAlgebra"
   ]
  },
  {
   "cell_type": "code",
   "execution_count": 2,
   "metadata": {},
   "outputs": [
    {
     "data": {
      "text/plain": [
       "0.03"
      ]
     },
     "metadata": {},
     "output_type": "display_data"
    }
   ],
   "source": [
    "#parameters\n",
    "\n",
    "#General Params\n",
    "G = 6.67 * 10^(-11) \n",
    "Omega_m = 0.317\n",
    "Omega_l = 1 - Omega_m\n",
    "\n",
    "#ΛCDM_Params\n",
    "H0_CDM = 67.4\n",
    "h_CDM = 0.674\n",
    "deltaH0_CDM = 0.5\n",
    "OmegaBh2_CDM = 0.0224\n",
    "deltaOmegeBh2_CDM = 0.0001\n",
    "OmegaCh2_CDM = 0.12\n",
    "deltaOmegaCh2_CDM = 0.001\n",
    "wB_CDM = 0\n",
    "wC_CDM = 0\n",
    "wLambda_CDM = -1.03\n",
    "deltawLambda_CDM = 0.03\n",
    "\n",
    "#Nonlocal Params\n",
    "alpha_s = 0.0034\n",
    "#alpha_s = 0.0\n",
    "beta_s = -1.0\n",
    "H0 = 68.42\n",
    "h = 0.6842\n",
    "deltaH0 = 0.5\n",
    "OmegaBh2 = 0.02217\n",
    "deltaOmegeBh2 = 0.0001\n",
    "OmegaCh2 = 0.1176\n",
    "deltaOmegaCh2 = 0.001\n",
    "wB = 0\n",
    "w = 0 #CDM\n",
    "wC = 0\n",
    "wlambda = -1.0\n",
    "dP_dRho = 0\n",
    "deltawLambda = 0.03\n"
   ]
  },
  {
   "cell_type": "code",
   "execution_count": null,
   "metadata": {},
   "outputs": [],
   "source": [
    "#Nonlocal theory functions\n",
    "Gamma(z) = (1 + S(0)) / (1 + S(z))\n",
    "\n",
    "Gamma_prime_z(z) = - Sprime_z(z) * (1 + S(0)) / (1 + S(z)) ^ 2\n",
    "\n",
    "H_nonlocal(z) = H0 * Gamma(z) * sqrt(OmegaBh2 / h^2 / (1 + S(0)) * (1 + z) ^ (3 * (1 + wB)) + OmegaCh2 / h^2 / (1 + S(0)) * (1 + z) ^(3 * (1 + wC)) + (1 - (OmegaBh2 + OmegaCh2) / h^2 / (1 + S(0))) * (1 + z) ^ (3 * (1 + wlambda)))\n",
    "\n",
    "H_nl(z) = 1 / (1 + z) * H_nonlocal(z)\n",
    "\n",
    "H_nonlocal_prime_z(z) = H_nonlocal(z) * ((OmegaBh2 / h^2 / (1 + S(0)) * (3 * (1 + wB)) * (1 + z) ^ (3 * (1 + wB) - 1) + OmegaCh2 / h^2 / (1 + S(0)) * (3 * (1 + wC)) * (1 + z) ^(3 * (1 + wC) - 1) + (1 - (OmegaBh2 + OmegaCh2) / h^2 / (1 + S(0))) * (3 * (1 + wlambda)) * (1 + z) ^ (3 * (1 + wlambda) - 1)) / 2 / (OmegaBh2 / h^2 / (1 + S(0)) * (1 + z) ^ (3 * (1 + wB)) + OmegaCh2 / h^2 / (1 + S(0)) * (1 + z) ^(3 * (1 + wC)) + (1 - (OmegaBh2 + OmegaCh2) / h^2 / (1 + S(0))) * (1 + z) ^ (3 * (1 + wlambda))) + Gamma_prime_z(z) / Gamma(z))\n",
    "\n",
    "S(z) = alpha_s * (1 + z) ^ beta_s\n",
    "\n",
    "Sprime_z(z) = alpha_s * beta_s * (1 + z) ^ (beta_s - 1)\n",
    "\n",
    "Ssecond_z(z) = alpha_s * beta_s * (beta_s - 1) * (1 + z) ^ (beta_s - 2)\n",
    "\n",
    "beta(z) = - H_nonlocal(z) * Sprime_z(z) / (1 + S(z))\n",
    "\n",
    "betaprime(z) = H_nonlocal_prime_z(z) * H_nonlocal(z) * Sprime_z(z) / (1 + S(z)) + H_nonlocal(z) ^ 2 * Ssecond_z(z) / (1 + S(z)) - beta(z) ^ 2\n",
    "\n",
    "gothic_R(z, k) = 2 * k^2 - 3 * beta(z) * H_nl(z)\n",
    "\n",
    "A1(z, k) = - (18 * (1 + w) * H_nl(z)^3 + 4 * k^2 * beta(z) + 3 * H_nl(z)^2 * (7 - 3 * w - 6 * dP_dRho) * beta(z) + 12 * k^2 * H_nl(z) * (w - dP_dRho) - 6 * H_nl(z) * betaprime(z)) / (2 * (1 + S(z)) * gothic_R(z, k))\n",
    "\n",
    "A2(z, k) = -1 / (1 + z) * (-4 * k^4 + 54 * (1 + w) * H_nl(z)^4 + 12 * H_nl(z) * beta(z) * (2 * k^2 + 3 * H_nl(z)^2) + 9 * H_nl(z)^2 * (2 * k^2 * (1 + w) - beta(z)^2 - 2 * betaprime(z))) / (2 * k^2 * (1 + S(z)) * gothic_R(z, k) * (1 + 2)^(-1))\n",
    "\n",
    "B1(z, k) = - (2 + 3 * w) * H_nl(z) - beta(z) + (3 * H_nl(z) * (2 * k^2 + 3 * (1 + w) * H_nl(z)^2)) / gothic_R(z, k)\n",
    "\n",
    "B2(z, k) = k^2 * (-2 * k^2 * dP_dRho + 3 * (1 + w) * H_nl(z)^2 + 3 * (1 + dP_dRho) * beta(z) * H_nl(z)) / ((1 + w) * gothic_R(z, k))"
   ]
  }
 ],
 "metadata": {
  "kernelspec": {
   "display_name": "Julia 1.9.2",
   "language": "julia",
   "name": "julia-1.9"
  },
  "language_info": {
   "file_extension": ".jl",
   "mimetype": "application/julia",
   "name": "julia",
   "version": "1.9.2"
  }
 },
 "nbformat": 4,
 "nbformat_minor": 2
}
